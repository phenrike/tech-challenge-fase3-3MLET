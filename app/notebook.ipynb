{
 "cells": [
  {
   "cell_type": "markdown",
   "metadata": {},
   "source": [
    "# Previsão de Qualidade do Ar\n",
    "\n",
    "## Proposta"
   ]
  },
  {
   "cell_type": "markdown",
   "metadata": {},
   "source": [
    "O objetivo é prever a qualidade do ar em algumas cidades turísticas do Chile com base nas condições climáticas. O fator escolhido para definir a qualidade do ar é o PM 2.5, que são materiais particulados leves o suficiennte para ficar suspensos no ar. Esse foi o fator escolhido por conta da sua influência na saúde humana, tanto em casos de exposição de curto quanto de longo prazo.\n",
    "\n",
    "Para o bter os dados históricos de qualidade do ar, foi utilizada uma API da OpenAQ, que possui informações referentes a qualidade do a rcontidas em diversos sensores ao redor do mundo. Os dados climáticos foram obtidos da API Weather, trazendo os dados de um ano de diferentes informações climáticas sobre cidades específicas."
   ]
  },
  {
   "cell_type": "markdown",
   "metadata": {},
   "source": [
    "As features da tabela de medidas históricas do clima:\n",
    "- **ds_city - Cidade**: cidade de origem das medidas\n",
    "- **dt_date - Data**: data da medição\n",
    "- **qt_avg_humidity - Umidade Média**: umidade média do dia\n",
    "- **qt_avg_temp_c - Temperatura Média (°C)**: temperatura média do dia em °C\n",
    "- **qt_avg_vis_km - Visibilidade Média (km)**: visibilidade média em km\n",
    "- **qt_max_wind_kph - Velocidade Máxima do Vento (km/h)**: velocidade máxima do vento do dia em km/h\n",
    "- **qt_total_precip_mm - Precipitação total (mm)**: precipitação total do dia em mm\n",
    "- **qt_pressure_mb - Pressão Média (mb)**: pressão média do dia em mb\n",
    "\n",
    "As features da tabela de medidas históricas de qualidade do ar são:\n",
    "- **ds_city - Cidade**: cidade de origem das medidas\n",
    "- **dt_date_from - Data de Início**: data e hora de início da medida\n",
    "- **dt_date_to - Data de Término**: data e hora do final da medida\n",
    "- **qt_pm25 - PM 2.5**:  material particulado de 2.5 mícrons ou menor"
   ]
  },
  {
   "cell_type": "markdown",
   "metadata": {},
   "source": [
    "---\n",
    "## Preparação dos Dados e Análise Exploratória"
   ]
  },
  {
   "cell_type": "code",
   "execution_count": 52,
   "metadata": {},
   "outputs": [],
   "source": [
    "import pandas as pd \n",
    "import numpy as np \n",
    "import seaborn as sns\n",
    "import matplotlib.pyplot as plt\n",
    "from sqlalchemy import create_engine\n",
    "from datetime import date, timedelta"
   ]
  },
  {
   "cell_type": "code",
   "execution_count": 53,
   "metadata": {},
   "outputs": [
    {
     "name": "stdout",
     "output_type": "stream",
     "text": [
      "   id       ds_city     dt_date  qt_avg_humidity  qt_avg_temp_c  \\\n",
      "0   1  Puerto Montt  2024-03-28             76.0           14.4   \n",
      "1   2  Puerto Montt  2024-03-29             78.0           12.5   \n",
      "2   3  Puerto Montt  2024-03-30             75.0           10.1   \n",
      "3   4  Puerto Montt  2024-03-31             73.0            9.2   \n",
      "4   5  Puerto Montt  2024-04-01             72.0            9.1   \n",
      "\n",
      "   qt_avg_vis_km  qt_max_wind_kph  qt_total_precip_mm  qt_pressure_mb  \n",
      "0           10.0              7.6                 2.0         1018.75  \n",
      "1            8.7             15.8                 3.2         1020.08  \n",
      "2            8.7             11.5                 1.5         1024.50  \n",
      "3           10.0             13.3                 0.0         1023.04  \n",
      "4           10.0              8.3                 0.0         1019.50  \n"
     ]
    }
   ],
   "source": [
    "# Configurar a conexão ao PostgreSQL\n",
    "USER = \"postgres\"\n",
    "PASSWORD = \"password\"\n",
    "HOST = \"localhost\"  # Exemplo: \"localhost\" ou IP do servidor\n",
    "PORT = \"5432\"  # Porta padrão do PostgreSQL\n",
    "DB_NAME = \"db_measurements\"\n",
    "\n",
    "# Criar a string de conexão\n",
    "conn_str = f\"postgresql+psycopg2://{USER}:{PASSWORD}@{HOST}:{PORT}/{DB_NAME}\"\n",
    "\n",
    "# Criar a engine de conexão\n",
    "engine = create_engine(conn_str)\n",
    "\n",
    "# Testar a conexão e carregar dados em um DataFrame\n",
    "query = \"SELECT * FROM tbl_weather_history\"\n",
    "df_weather_history = pd.read_sql(query, engine)\n",
    "\n",
    "# Testar a conexão e carregar dados em um DataFrame\n",
    "query = \"SELECT * FROM tbl_measurements\"\n",
    "df_measurements = pd.read_sql(query, engine)\n",
    "\n",
    "# Exibir as primeiras linhas\n",
    "print(df_weather_history.head())"
   ]
  },
  {
   "cell_type": "code",
   "execution_count": 54,
   "metadata": {},
   "outputs": [
    {
     "data": {
      "text/html": [
       "<div>\n",
       "<style scoped>\n",
       "    .dataframe tbody tr th:only-of-type {\n",
       "        vertical-align: middle;\n",
       "    }\n",
       "\n",
       "    .dataframe tbody tr th {\n",
       "        vertical-align: top;\n",
       "    }\n",
       "\n",
       "    .dataframe thead th {\n",
       "        text-align: right;\n",
       "    }\n",
       "</style>\n",
       "<table border=\"1\" class=\"dataframe\">\n",
       "  <thead>\n",
       "    <tr style=\"text-align: right;\">\n",
       "      <th></th>\n",
       "      <th>id</th>\n",
       "      <th>id_sensor</th>\n",
       "      <th>ds_city</th>\n",
       "      <th>dt_date_from</th>\n",
       "      <th>dt_date_to</th>\n",
       "      <th>qt_pm25</th>\n",
       "    </tr>\n",
       "  </thead>\n",
       "  <tbody>\n",
       "    <tr>\n",
       "      <th>0</th>\n",
       "      <td>1</td>\n",
       "      <td>491</td>\n",
       "      <td>Puerto Montt</td>\n",
       "      <td>2024-03-26 03:00:00</td>\n",
       "      <td>2024-03-27 03:00:00</td>\n",
       "      <td>14.0</td>\n",
       "    </tr>\n",
       "    <tr>\n",
       "      <th>1</th>\n",
       "      <td>2</td>\n",
       "      <td>491</td>\n",
       "      <td>Puerto Montt</td>\n",
       "      <td>2024-03-27 03:00:00</td>\n",
       "      <td>2024-03-28 03:00:00</td>\n",
       "      <td>14.2</td>\n",
       "    </tr>\n",
       "    <tr>\n",
       "      <th>2</th>\n",
       "      <td>3</td>\n",
       "      <td>491</td>\n",
       "      <td>Puerto Montt</td>\n",
       "      <td>2024-03-28 03:00:00</td>\n",
       "      <td>2024-03-29 03:00:00</td>\n",
       "      <td>30.4</td>\n",
       "    </tr>\n",
       "    <tr>\n",
       "      <th>3</th>\n",
       "      <td>4</td>\n",
       "      <td>491</td>\n",
       "      <td>Puerto Montt</td>\n",
       "      <td>2024-03-29 03:00:00</td>\n",
       "      <td>2024-03-30 03:00:00</td>\n",
       "      <td>18.1</td>\n",
       "    </tr>\n",
       "    <tr>\n",
       "      <th>4</th>\n",
       "      <td>5</td>\n",
       "      <td>491</td>\n",
       "      <td>Puerto Montt</td>\n",
       "      <td>2024-03-30 03:00:00</td>\n",
       "      <td>2024-03-31 03:00:00</td>\n",
       "      <td>24.1</td>\n",
       "    </tr>\n",
       "  </tbody>\n",
       "</table>\n",
       "</div>"
      ],
      "text/plain": [
       "   id  id_sensor       ds_city        dt_date_from          dt_date_to  \\\n",
       "0   1        491  Puerto Montt 2024-03-26 03:00:00 2024-03-27 03:00:00   \n",
       "1   2        491  Puerto Montt 2024-03-27 03:00:00 2024-03-28 03:00:00   \n",
       "2   3        491  Puerto Montt 2024-03-28 03:00:00 2024-03-29 03:00:00   \n",
       "3   4        491  Puerto Montt 2024-03-29 03:00:00 2024-03-30 03:00:00   \n",
       "4   5        491  Puerto Montt 2024-03-30 03:00:00 2024-03-31 03:00:00   \n",
       "\n",
       "   qt_pm25  \n",
       "0     14.0  \n",
       "1     14.2  \n",
       "2     30.4  \n",
       "3     18.1  \n",
       "4     24.1  "
      ]
     },
     "execution_count": 54,
     "metadata": {},
     "output_type": "execute_result"
    }
   ],
   "source": [
    "# estatisticas das features de histórico\n",
    "df_measurements.head()"
   ]
  },
  {
   "cell_type": "code",
   "execution_count": 55,
   "metadata": {},
   "outputs": [
    {
     "data": {
      "text/html": [
       "<div>\n",
       "<style scoped>\n",
       "    .dataframe tbody tr th:only-of-type {\n",
       "        vertical-align: middle;\n",
       "    }\n",
       "\n",
       "    .dataframe tbody tr th {\n",
       "        vertical-align: top;\n",
       "    }\n",
       "\n",
       "    .dataframe thead th {\n",
       "        text-align: right;\n",
       "    }\n",
       "</style>\n",
       "<table border=\"1\" class=\"dataframe\">\n",
       "  <thead>\n",
       "    <tr style=\"text-align: right;\">\n",
       "      <th></th>\n",
       "      <th>id</th>\n",
       "      <th>ds_city</th>\n",
       "      <th>dt_date</th>\n",
       "      <th>qt_avg_humidity</th>\n",
       "      <th>qt_avg_temp_c</th>\n",
       "      <th>qt_avg_vis_km</th>\n",
       "      <th>qt_max_wind_kph</th>\n",
       "      <th>qt_total_precip_mm</th>\n",
       "      <th>qt_pressure_mb</th>\n",
       "    </tr>\n",
       "  </thead>\n",
       "  <tbody>\n",
       "    <tr>\n",
       "      <th>0</th>\n",
       "      <td>1</td>\n",
       "      <td>Puerto Montt</td>\n",
       "      <td>2024-03-28</td>\n",
       "      <td>76.0</td>\n",
       "      <td>14.4</td>\n",
       "      <td>10.0</td>\n",
       "      <td>7.6</td>\n",
       "      <td>2.0</td>\n",
       "      <td>1018.75</td>\n",
       "    </tr>\n",
       "    <tr>\n",
       "      <th>1</th>\n",
       "      <td>2</td>\n",
       "      <td>Puerto Montt</td>\n",
       "      <td>2024-03-29</td>\n",
       "      <td>78.0</td>\n",
       "      <td>12.5</td>\n",
       "      <td>8.7</td>\n",
       "      <td>15.8</td>\n",
       "      <td>3.2</td>\n",
       "      <td>1020.08</td>\n",
       "    </tr>\n",
       "    <tr>\n",
       "      <th>2</th>\n",
       "      <td>3</td>\n",
       "      <td>Puerto Montt</td>\n",
       "      <td>2024-03-30</td>\n",
       "      <td>75.0</td>\n",
       "      <td>10.1</td>\n",
       "      <td>8.7</td>\n",
       "      <td>11.5</td>\n",
       "      <td>1.5</td>\n",
       "      <td>1024.50</td>\n",
       "    </tr>\n",
       "    <tr>\n",
       "      <th>3</th>\n",
       "      <td>4</td>\n",
       "      <td>Puerto Montt</td>\n",
       "      <td>2024-03-31</td>\n",
       "      <td>73.0</td>\n",
       "      <td>9.2</td>\n",
       "      <td>10.0</td>\n",
       "      <td>13.3</td>\n",
       "      <td>0.0</td>\n",
       "      <td>1023.04</td>\n",
       "    </tr>\n",
       "    <tr>\n",
       "      <th>4</th>\n",
       "      <td>5</td>\n",
       "      <td>Puerto Montt</td>\n",
       "      <td>2024-04-01</td>\n",
       "      <td>72.0</td>\n",
       "      <td>9.1</td>\n",
       "      <td>10.0</td>\n",
       "      <td>8.3</td>\n",
       "      <td>0.0</td>\n",
       "      <td>1019.50</td>\n",
       "    </tr>\n",
       "  </tbody>\n",
       "</table>\n",
       "</div>"
      ],
      "text/plain": [
       "   id       ds_city     dt_date  qt_avg_humidity  qt_avg_temp_c  \\\n",
       "0   1  Puerto Montt  2024-03-28             76.0           14.4   \n",
       "1   2  Puerto Montt  2024-03-29             78.0           12.5   \n",
       "2   3  Puerto Montt  2024-03-30             75.0           10.1   \n",
       "3   4  Puerto Montt  2024-03-31             73.0            9.2   \n",
       "4   5  Puerto Montt  2024-04-01             72.0            9.1   \n",
       "\n",
       "   qt_avg_vis_km  qt_max_wind_kph  qt_total_precip_mm  qt_pressure_mb  \n",
       "0           10.0              7.6                 2.0         1018.75  \n",
       "1            8.7             15.8                 3.2         1020.08  \n",
       "2            8.7             11.5                 1.5         1024.50  \n",
       "3           10.0             13.3                 0.0         1023.04  \n",
       "4           10.0              8.3                 0.0         1019.50  "
      ]
     },
     "execution_count": 55,
     "metadata": {},
     "output_type": "execute_result"
    }
   ],
   "source": [
    "df_weather_history['dt_date'] = df_weather_history['dt_date'].apply(lambda x: x.isoformat() if pd.notnull(x) else None)\n",
    "df_weather_history.head()"
   ]
  },
  {
   "cell_type": "code",
   "execution_count": 56,
   "metadata": {},
   "outputs": [
    {
     "data": {
      "text/html": [
       "<div>\n",
       "<style scoped>\n",
       "    .dataframe tbody tr th:only-of-type {\n",
       "        vertical-align: middle;\n",
       "    }\n",
       "\n",
       "    .dataframe tbody tr th {\n",
       "        vertical-align: top;\n",
       "    }\n",
       "\n",
       "    .dataframe thead th {\n",
       "        text-align: right;\n",
       "    }\n",
       "</style>\n",
       "<table border=\"1\" class=\"dataframe\">\n",
       "  <thead>\n",
       "    <tr style=\"text-align: right;\">\n",
       "      <th></th>\n",
       "      <th>id</th>\n",
       "      <th>id_sensor</th>\n",
       "      <th>ds_city</th>\n",
       "      <th>dt_date_from</th>\n",
       "      <th>dt_date_to</th>\n",
       "      <th>qt_pm25</th>\n",
       "      <th>dt_date</th>\n",
       "    </tr>\n",
       "  </thead>\n",
       "  <tbody>\n",
       "    <tr>\n",
       "      <th>0</th>\n",
       "      <td>1</td>\n",
       "      <td>491</td>\n",
       "      <td>Puerto Montt</td>\n",
       "      <td>2024-03-26 03:00:00</td>\n",
       "      <td>2024-03-27 03:00:00</td>\n",
       "      <td>14.0</td>\n",
       "      <td>2024-03-26</td>\n",
       "    </tr>\n",
       "    <tr>\n",
       "      <th>1</th>\n",
       "      <td>2</td>\n",
       "      <td>491</td>\n",
       "      <td>Puerto Montt</td>\n",
       "      <td>2024-03-27 03:00:00</td>\n",
       "      <td>2024-03-28 03:00:00</td>\n",
       "      <td>14.2</td>\n",
       "      <td>2024-03-27</td>\n",
       "    </tr>\n",
       "    <tr>\n",
       "      <th>2</th>\n",
       "      <td>3</td>\n",
       "      <td>491</td>\n",
       "      <td>Puerto Montt</td>\n",
       "      <td>2024-03-28 03:00:00</td>\n",
       "      <td>2024-03-29 03:00:00</td>\n",
       "      <td>30.4</td>\n",
       "      <td>2024-03-28</td>\n",
       "    </tr>\n",
       "    <tr>\n",
       "      <th>3</th>\n",
       "      <td>4</td>\n",
       "      <td>491</td>\n",
       "      <td>Puerto Montt</td>\n",
       "      <td>2024-03-29 03:00:00</td>\n",
       "      <td>2024-03-30 03:00:00</td>\n",
       "      <td>18.1</td>\n",
       "      <td>2024-03-29</td>\n",
       "    </tr>\n",
       "    <tr>\n",
       "      <th>4</th>\n",
       "      <td>5</td>\n",
       "      <td>491</td>\n",
       "      <td>Puerto Montt</td>\n",
       "      <td>2024-03-30 03:00:00</td>\n",
       "      <td>2024-03-31 03:00:00</td>\n",
       "      <td>24.1</td>\n",
       "      <td>2024-03-30</td>\n",
       "    </tr>\n",
       "  </tbody>\n",
       "</table>\n",
       "</div>"
      ],
      "text/plain": [
       "   id  id_sensor       ds_city        dt_date_from          dt_date_to  \\\n",
       "0   1        491  Puerto Montt 2024-03-26 03:00:00 2024-03-27 03:00:00   \n",
       "1   2        491  Puerto Montt 2024-03-27 03:00:00 2024-03-28 03:00:00   \n",
       "2   3        491  Puerto Montt 2024-03-28 03:00:00 2024-03-29 03:00:00   \n",
       "3   4        491  Puerto Montt 2024-03-29 03:00:00 2024-03-30 03:00:00   \n",
       "4   5        491  Puerto Montt 2024-03-30 03:00:00 2024-03-31 03:00:00   \n",
       "\n",
       "   qt_pm25     dt_date  \n",
       "0     14.0  2024-03-26  \n",
       "1     14.2  2024-03-27  \n",
       "2     30.4  2024-03-28  \n",
       "3     18.1  2024-03-29  \n",
       "4     24.1  2024-03-30  "
      ]
     },
     "execution_count": 56,
     "metadata": {},
     "output_type": "execute_result"
    }
   ],
   "source": [
    "df_measurements['dt_date'] = df_measurements['dt_date_from'].apply(lambda x: x.date().isoformat() if pd.notnull(x) else None)\n",
    "df_measurements.head()"
   ]
  },
  {
   "cell_type": "code",
   "execution_count": 57,
   "metadata": {},
   "outputs": [
    {
     "data": {
      "text/html": [
       "<div>\n",
       "<style scoped>\n",
       "    .dataframe tbody tr th:only-of-type {\n",
       "        vertical-align: middle;\n",
       "    }\n",
       "\n",
       "    .dataframe tbody tr th {\n",
       "        vertical-align: top;\n",
       "    }\n",
       "\n",
       "    .dataframe thead th {\n",
       "        text-align: right;\n",
       "    }\n",
       "</style>\n",
       "<table border=\"1\" class=\"dataframe\">\n",
       "  <thead>\n",
       "    <tr style=\"text-align: right;\">\n",
       "      <th></th>\n",
       "      <th>id_x</th>\n",
       "      <th>ds_city</th>\n",
       "      <th>dt_date</th>\n",
       "      <th>qt_avg_humidity</th>\n",
       "      <th>qt_avg_temp_c</th>\n",
       "      <th>qt_avg_vis_km</th>\n",
       "      <th>qt_max_wind_kph</th>\n",
       "      <th>qt_total_precip_mm</th>\n",
       "      <th>qt_pressure_mb</th>\n",
       "      <th>id_y</th>\n",
       "      <th>id_sensor</th>\n",
       "      <th>dt_date_from</th>\n",
       "      <th>dt_date_to</th>\n",
       "      <th>qt_pm25</th>\n",
       "    </tr>\n",
       "  </thead>\n",
       "  <tbody>\n",
       "    <tr>\n",
       "      <th>0</th>\n",
       "      <td>1</td>\n",
       "      <td>Puerto Montt</td>\n",
       "      <td>2024-03-28</td>\n",
       "      <td>76.0</td>\n",
       "      <td>14.4</td>\n",
       "      <td>10.0</td>\n",
       "      <td>7.6</td>\n",
       "      <td>2.0</td>\n",
       "      <td>1018.75</td>\n",
       "      <td>3</td>\n",
       "      <td>491</td>\n",
       "      <td>2024-03-28 03:00:00</td>\n",
       "      <td>2024-03-29 03:00:00</td>\n",
       "      <td>30.4</td>\n",
       "    </tr>\n",
       "    <tr>\n",
       "      <th>1</th>\n",
       "      <td>1</td>\n",
       "      <td>Puerto Montt</td>\n",
       "      <td>2024-03-28</td>\n",
       "      <td>76.0</td>\n",
       "      <td>14.4</td>\n",
       "      <td>10.0</td>\n",
       "      <td>7.6</td>\n",
       "      <td>2.0</td>\n",
       "      <td>1018.75</td>\n",
       "      <td>363</td>\n",
       "      <td>21638</td>\n",
       "      <td>2024-03-28 03:00:00</td>\n",
       "      <td>2024-03-29 03:00:00</td>\n",
       "      <td>27.8</td>\n",
       "    </tr>\n",
       "    <tr>\n",
       "      <th>2</th>\n",
       "      <td>2</td>\n",
       "      <td>Puerto Montt</td>\n",
       "      <td>2024-03-29</td>\n",
       "      <td>78.0</td>\n",
       "      <td>12.5</td>\n",
       "      <td>8.7</td>\n",
       "      <td>15.8</td>\n",
       "      <td>3.2</td>\n",
       "      <td>1020.08</td>\n",
       "      <td>4</td>\n",
       "      <td>491</td>\n",
       "      <td>2024-03-29 03:00:00</td>\n",
       "      <td>2024-03-30 03:00:00</td>\n",
       "      <td>18.1</td>\n",
       "    </tr>\n",
       "    <tr>\n",
       "      <th>3</th>\n",
       "      <td>2</td>\n",
       "      <td>Puerto Montt</td>\n",
       "      <td>2024-03-29</td>\n",
       "      <td>78.0</td>\n",
       "      <td>12.5</td>\n",
       "      <td>8.7</td>\n",
       "      <td>15.8</td>\n",
       "      <td>3.2</td>\n",
       "      <td>1020.08</td>\n",
       "      <td>364</td>\n",
       "      <td>21638</td>\n",
       "      <td>2024-03-29 03:00:00</td>\n",
       "      <td>2024-03-30 03:00:00</td>\n",
       "      <td>17.8</td>\n",
       "    </tr>\n",
       "    <tr>\n",
       "      <th>4</th>\n",
       "      <td>3</td>\n",
       "      <td>Puerto Montt</td>\n",
       "      <td>2024-03-30</td>\n",
       "      <td>75.0</td>\n",
       "      <td>10.1</td>\n",
       "      <td>8.7</td>\n",
       "      <td>11.5</td>\n",
       "      <td>1.5</td>\n",
       "      <td>1024.50</td>\n",
       "      <td>5</td>\n",
       "      <td>491</td>\n",
       "      <td>2024-03-30 03:00:00</td>\n",
       "      <td>2024-03-31 03:00:00</td>\n",
       "      <td>24.1</td>\n",
       "    </tr>\n",
       "  </tbody>\n",
       "</table>\n",
       "</div>"
      ],
      "text/plain": [
       "   id_x       ds_city     dt_date  qt_avg_humidity  qt_avg_temp_c  \\\n",
       "0     1  Puerto Montt  2024-03-28             76.0           14.4   \n",
       "1     1  Puerto Montt  2024-03-28             76.0           14.4   \n",
       "2     2  Puerto Montt  2024-03-29             78.0           12.5   \n",
       "3     2  Puerto Montt  2024-03-29             78.0           12.5   \n",
       "4     3  Puerto Montt  2024-03-30             75.0           10.1   \n",
       "\n",
       "   qt_avg_vis_km  qt_max_wind_kph  qt_total_precip_mm  qt_pressure_mb  id_y  \\\n",
       "0           10.0              7.6                 2.0         1018.75     3   \n",
       "1           10.0              7.6                 2.0         1018.75   363   \n",
       "2            8.7             15.8                 3.2         1020.08     4   \n",
       "3            8.7             15.8                 3.2         1020.08   364   \n",
       "4            8.7             11.5                 1.5         1024.50     5   \n",
       "\n",
       "   id_sensor        dt_date_from          dt_date_to  qt_pm25  \n",
       "0        491 2024-03-28 03:00:00 2024-03-29 03:00:00     30.4  \n",
       "1      21638 2024-03-28 03:00:00 2024-03-29 03:00:00     27.8  \n",
       "2        491 2024-03-29 03:00:00 2024-03-30 03:00:00     18.1  \n",
       "3      21638 2024-03-29 03:00:00 2024-03-30 03:00:00     17.8  \n",
       "4        491 2024-03-30 03:00:00 2024-03-31 03:00:00     24.1  "
      ]
     },
     "execution_count": 57,
     "metadata": {},
     "output_type": "execute_result"
    }
   ],
   "source": [
    "# merge dos dois dataframes\n",
    "df = pd.merge(df_weather_history, df_measurements, on=['ds_city', 'dt_date'], how='inner')\n",
    "df.head()"
   ]
  },
  {
   "cell_type": "code",
   "execution_count": 58,
   "metadata": {},
   "outputs": [],
   "source": [
    "# remocao de colunas\n",
    "df.drop(columns=['id_x', 'id_y', 'id_sensor', 'dt_date_from', 'dt_date_to'], inplace=True)"
   ]
  },
  {
   "cell_type": "code",
   "execution_count": 59,
   "metadata": {},
   "outputs": [
    {
     "data": {
      "text/html": [
       "<div>\n",
       "<style scoped>\n",
       "    .dataframe tbody tr th:only-of-type {\n",
       "        vertical-align: middle;\n",
       "    }\n",
       "\n",
       "    .dataframe tbody tr th {\n",
       "        vertical-align: top;\n",
       "    }\n",
       "\n",
       "    .dataframe thead th {\n",
       "        text-align: right;\n",
       "    }\n",
       "</style>\n",
       "<table border=\"1\" class=\"dataframe\">\n",
       "  <thead>\n",
       "    <tr style=\"text-align: right;\">\n",
       "      <th></th>\n",
       "      <th>ds_city</th>\n",
       "      <th>dt_date</th>\n",
       "      <th>qt_avg_humidity</th>\n",
       "      <th>qt_avg_temp_c</th>\n",
       "      <th>qt_avg_vis_km</th>\n",
       "      <th>qt_max_wind_kph</th>\n",
       "      <th>qt_total_precip_mm</th>\n",
       "      <th>qt_pressure_mb</th>\n",
       "      <th>qt_pm25</th>\n",
       "    </tr>\n",
       "  </thead>\n",
       "  <tbody>\n",
       "    <tr>\n",
       "      <th>0</th>\n",
       "      <td>Puerto Montt</td>\n",
       "      <td>2024-03-28</td>\n",
       "      <td>76.0</td>\n",
       "      <td>14.4</td>\n",
       "      <td>10.0</td>\n",
       "      <td>7.6</td>\n",
       "      <td>2.0</td>\n",
       "      <td>1018.75</td>\n",
       "      <td>29.10</td>\n",
       "    </tr>\n",
       "    <tr>\n",
       "      <th>1</th>\n",
       "      <td>Puerto Montt</td>\n",
       "      <td>2024-03-29</td>\n",
       "      <td>78.0</td>\n",
       "      <td>12.5</td>\n",
       "      <td>8.7</td>\n",
       "      <td>15.8</td>\n",
       "      <td>3.2</td>\n",
       "      <td>1020.08</td>\n",
       "      <td>17.95</td>\n",
       "    </tr>\n",
       "    <tr>\n",
       "      <th>2</th>\n",
       "      <td>Puerto Montt</td>\n",
       "      <td>2024-03-30</td>\n",
       "      <td>75.0</td>\n",
       "      <td>10.1</td>\n",
       "      <td>8.7</td>\n",
       "      <td>11.5</td>\n",
       "      <td>1.5</td>\n",
       "      <td>1024.50</td>\n",
       "      <td>24.55</td>\n",
       "    </tr>\n",
       "    <tr>\n",
       "      <th>3</th>\n",
       "      <td>Puerto Montt</td>\n",
       "      <td>2024-03-31</td>\n",
       "      <td>73.0</td>\n",
       "      <td>9.2</td>\n",
       "      <td>10.0</td>\n",
       "      <td>13.3</td>\n",
       "      <td>0.0</td>\n",
       "      <td>1023.04</td>\n",
       "      <td>26.15</td>\n",
       "    </tr>\n",
       "    <tr>\n",
       "      <th>4</th>\n",
       "      <td>Puerto Montt</td>\n",
       "      <td>2024-04-01</td>\n",
       "      <td>72.0</td>\n",
       "      <td>9.1</td>\n",
       "      <td>10.0</td>\n",
       "      <td>8.3</td>\n",
       "      <td>0.0</td>\n",
       "      <td>1019.50</td>\n",
       "      <td>43.75</td>\n",
       "    </tr>\n",
       "  </tbody>\n",
       "</table>\n",
       "</div>"
      ],
      "text/plain": [
       "        ds_city     dt_date  qt_avg_humidity  qt_avg_temp_c  qt_avg_vis_km  \\\n",
       "0  Puerto Montt  2024-03-28             76.0           14.4           10.0   \n",
       "1  Puerto Montt  2024-03-29             78.0           12.5            8.7   \n",
       "2  Puerto Montt  2024-03-30             75.0           10.1            8.7   \n",
       "3  Puerto Montt  2024-03-31             73.0            9.2           10.0   \n",
       "4  Puerto Montt  2024-04-01             72.0            9.1           10.0   \n",
       "\n",
       "   qt_max_wind_kph  qt_total_precip_mm  qt_pressure_mb  qt_pm25  \n",
       "0              7.6                 2.0         1018.75    29.10  \n",
       "1             15.8                 3.2         1020.08    17.95  \n",
       "2             11.5                 1.5         1024.50    24.55  \n",
       "3             13.3                 0.0         1023.04    26.15  \n",
       "4              8.3                 0.0         1019.50    43.75  "
      ]
     },
     "execution_count": 59,
     "metadata": {},
     "output_type": "execute_result"
    }
   ],
   "source": [
    "# média da leitura dos sensores para cada cidade\n",
    "df = df.groupby(['ds_city', 'dt_date']).mean().reset_index()\n",
    "df.head()"
   ]
  },
  {
   "cell_type": "code",
   "execution_count": 60,
   "metadata": {},
   "outputs": [
    {
     "data": {
      "image/png": "[encoded data removed]",
      "text/plain": [
       "<Figure size 640x480 with 1 Axes>"
      ]
     },
     "metadata": {},
     "output_type": "display_data"
    }
   ],
   "source": [
    "# distribuicao da temperatura média\n",
    "sns.histplot(df['qt_avg_temp_c'])\n",
    "\n",
    "# Configurar título e rótulos\n",
    "plt.xlabel(\"Temperatura Média °C\")\n",
    "plt.ylabel(\"Frequência\")\n",
    "plt.title(\"Distribuição de Temperatura Média\")\n",
    "plt.xticks(rotation=45)  # Rotacionar datas para melhor visualização\n",
    "plt.grid()\n",
    "\n",
    "# Mostrar gráfico\n",
    "plt.show()"
   ]
  },
  {
   "cell_type": "code",
   "execution_count": 61,
   "metadata": {},
   "outputs": [
    {
     "data": {
      "image/png": "[encoded data removed]",
      "text/plain": [
       "<Figure size 1000x500 with 1 Axes>"
      ]
     },
     "metadata": {},
     "output_type": "display_data"
    }
   ],
   "source": [
    "df[\"dt_date\"] = pd.to_datetime(df[\"dt_date\"])\n",
    "\n",
    "df_pm25 = df.query('ds_city == \"Santiago\"')\n",
    "# Criar o gráfico\n",
    "plt.figure(figsize=(10,5))\n",
    "plt.plot(df_pm25[\"dt_date\"], df_pm25[\"qt_pm25\"], marker=\"o\", linestyle=\"-\", color=\"b\", label=\"PM2.5\")\n",
    "\n",
    "# Configurar título e rótulos\n",
    "plt.xlabel(\"Data\")\n",
    "plt.ylabel(\"PM2.5\")\n",
    "plt.title(\"Variação de PM2.5 ao longo do tempo para Santiago\")\n",
    "plt.xticks(rotation=45)  # Rotacionar datas para melhor visualização\n",
    "plt.legend()\n",
    "plt.grid()\n",
    "\n",
    "# Mostrar gráfico\n",
    "plt.show()"
   ]
  },
  {
   "cell_type": "markdown",
   "metadata": {},
   "source": [
    "---\n",
    "## Pré Processamento"
   ]
  },
  {
   "cell_type": "markdown",
   "metadata": {},
   "source": [
    "### Valores Duplicados"
   ]
  },
  {
   "cell_type": "code",
   "execution_count": 62,
   "metadata": {},
   "outputs": [
    {
     "name": "stdout",
     "output_type": "stream",
     "text": [
      "0\n"
     ]
    }
   ],
   "source": [
    "# verificação de existência de valores duplicados\n",
    "print(df.duplicated().sum())"
   ]
  },
  {
   "cell_type": "markdown",
   "metadata": {},
   "source": [
    "### Valores Faltantes"
   ]
  },
  {
   "cell_type": "code",
   "execution_count": 63,
   "metadata": {},
   "outputs": [
    {
     "name": "stdout",
     "output_type": "stream",
     "text": [
      "ds_city               0\n",
      "dt_date               0\n",
      "qt_avg_humidity       0\n",
      "qt_avg_temp_c         0\n",
      "qt_avg_vis_km         0\n",
      "qt_max_wind_kph       0\n",
      "qt_total_precip_mm    0\n",
      "qt_pressure_mb        0\n",
      "qt_pm25               0\n",
      "dtype: int64\n"
     ]
    }
   ],
   "source": [
    "# verificação de valores faltantes\n",
    "print(df.isnull().sum())"
   ]
  },
  {
   "cell_type": "markdown",
   "metadata": {},
   "source": [
    "### Codificação de Variáveis Categóricas"
   ]
  },
  {
   "cell_type": "code",
   "execution_count": 64,
   "metadata": {},
   "outputs": [
    {
     "data": {
      "text/html": [
       "<div>\n",
       "<style scoped>\n",
       "    .dataframe tbody tr th:only-of-type {\n",
       "        vertical-align: middle;\n",
       "    }\n",
       "\n",
       "    .dataframe tbody tr th {\n",
       "        vertical-align: top;\n",
       "    }\n",
       "\n",
       "    .dataframe thead th {\n",
       "        text-align: right;\n",
       "    }\n",
       "</style>\n",
       "<table border=\"1\" class=\"dataframe\">\n",
       "  <thead>\n",
       "    <tr style=\"text-align: right;\">\n",
       "      <th></th>\n",
       "      <th>ds_city</th>\n",
       "      <th>dt_date</th>\n",
       "      <th>qt_avg_humidity</th>\n",
       "      <th>qt_avg_temp_c</th>\n",
       "      <th>qt_avg_vis_km</th>\n",
       "      <th>qt_max_wind_kph</th>\n",
       "      <th>qt_total_precip_mm</th>\n",
       "      <th>qt_pressure_mb</th>\n",
       "      <th>qt_pm25</th>\n",
       "      <th>ds_city_Puerto Montt</th>\n",
       "      <th>ds_city_Puerto Varas</th>\n",
       "      <th>ds_city_Santiago</th>\n",
       "      <th>ds_city_Valparaiso</th>\n",
       "    </tr>\n",
       "  </thead>\n",
       "  <tbody>\n",
       "    <tr>\n",
       "      <th>0</th>\n",
       "      <td>Puerto Montt</td>\n",
       "      <td>2024-03-28</td>\n",
       "      <td>76.0</td>\n",
       "      <td>14.4</td>\n",
       "      <td>10.0</td>\n",
       "      <td>7.6</td>\n",
       "      <td>2.0</td>\n",
       "      <td>1018.75</td>\n",
       "      <td>29.10</td>\n",
       "      <td>1.0</td>\n",
       "      <td>0.0</td>\n",
       "      <td>0.0</td>\n",
       "      <td>0.0</td>\n",
       "    </tr>\n",
       "    <tr>\n",
       "      <th>1</th>\n",
       "      <td>Puerto Montt</td>\n",
       "      <td>2024-03-29</td>\n",
       "      <td>78.0</td>\n",
       "      <td>12.5</td>\n",
       "      <td>8.7</td>\n",
       "      <td>15.8</td>\n",
       "      <td>3.2</td>\n",
       "      <td>1020.08</td>\n",
       "      <td>17.95</td>\n",
       "      <td>1.0</td>\n",
       "      <td>0.0</td>\n",
       "      <td>0.0</td>\n",
       "      <td>0.0</td>\n",
       "    </tr>\n",
       "    <tr>\n",
       "      <th>2</th>\n",
       "      <td>Puerto Montt</td>\n",
       "      <td>2024-03-30</td>\n",
       "      <td>75.0</td>\n",
       "      <td>10.1</td>\n",
       "      <td>8.7</td>\n",
       "      <td>11.5</td>\n",
       "      <td>1.5</td>\n",
       "      <td>1024.50</td>\n",
       "      <td>24.55</td>\n",
       "      <td>1.0</td>\n",
       "      <td>0.0</td>\n",
       "      <td>0.0</td>\n",
       "      <td>0.0</td>\n",
       "    </tr>\n",
       "    <tr>\n",
       "      <th>3</th>\n",
       "      <td>Puerto Montt</td>\n",
       "      <td>2024-03-31</td>\n",
       "      <td>73.0</td>\n",
       "      <td>9.2</td>\n",
       "      <td>10.0</td>\n",
       "      <td>13.3</td>\n",
       "      <td>0.0</td>\n",
       "      <td>1023.04</td>\n",
       "      <td>26.15</td>\n",
       "      <td>1.0</td>\n",
       "      <td>0.0</td>\n",
       "      <td>0.0</td>\n",
       "      <td>0.0</td>\n",
       "    </tr>\n",
       "    <tr>\n",
       "      <th>4</th>\n",
       "      <td>Puerto Montt</td>\n",
       "      <td>2024-04-01</td>\n",
       "      <td>72.0</td>\n",
       "      <td>9.1</td>\n",
       "      <td>10.0</td>\n",
       "      <td>8.3</td>\n",
       "      <td>0.0</td>\n",
       "      <td>1019.50</td>\n",
       "      <td>43.75</td>\n",
       "      <td>1.0</td>\n",
       "      <td>0.0</td>\n",
       "      <td>0.0</td>\n",
       "      <td>0.0</td>\n",
       "    </tr>\n",
       "  </tbody>\n",
       "</table>\n",
       "</div>"
      ],
      "text/plain": [
       "        ds_city    dt_date  qt_avg_humidity  qt_avg_temp_c  qt_avg_vis_km  \\\n",
       "0  Puerto Montt 2024-03-28             76.0           14.4           10.0   \n",
       "1  Puerto Montt 2024-03-29             78.0           12.5            8.7   \n",
       "2  Puerto Montt 2024-03-30             75.0           10.1            8.7   \n",
       "3  Puerto Montt 2024-03-31             73.0            9.2           10.0   \n",
       "4  Puerto Montt 2024-04-01             72.0            9.1           10.0   \n",
       "\n",
       "   qt_max_wind_kph  qt_total_precip_mm  qt_pressure_mb  qt_pm25  \\\n",
       "0              7.6                 2.0         1018.75    29.10   \n",
       "1             15.8                 3.2         1020.08    17.95   \n",
       "2             11.5                 1.5         1024.50    24.55   \n",
       "3             13.3                 0.0         1023.04    26.15   \n",
       "4              8.3                 0.0         1019.50    43.75   \n",
       "\n",
       "   ds_city_Puerto Montt  ds_city_Puerto Varas  ds_city_Santiago  \\\n",
       "0                   1.0                   0.0               0.0   \n",
       "1                   1.0                   0.0               0.0   \n",
       "2                   1.0                   0.0               0.0   \n",
       "3                   1.0                   0.0               0.0   \n",
       "4                   1.0                   0.0               0.0   \n",
       "\n",
       "   ds_city_Valparaiso  \n",
       "0                 0.0  \n",
       "1                 0.0  \n",
       "2                 0.0  \n",
       "3                 0.0  \n",
       "4                 0.0  "
      ]
     },
     "execution_count": 64,
     "metadata": {},
     "output_type": "execute_result"
    }
   ],
   "source": [
    "from sklearn.preprocessing import OneHotEncoder\n",
    "\n",
    "# Instanciando a classe do OneHotEncoder\n",
    "encoder = OneHotEncoder()\n",
    "encoded_data = encoder.fit_transform(df[['ds_city']]).toarray()\n",
    "df_encoded = pd.DataFrame(encoded_data, columns=encoder.get_feature_names_out(['ds_city']))\n",
    "\n",
    "# Concatenar os novos dados codificados ao dados\n",
    "df = pd.concat([df, df_encoded], axis=1)\n",
    "df.head()"
   ]
  },
  {
   "cell_type": "markdown",
   "metadata": {},
   "source": [
    "### Feature Engineering"
   ]
  },
  {
   "cell_type": "code",
   "execution_count": 65,
   "metadata": {},
   "outputs": [],
   "source": [
    "# Ordenar os dados por cidade e data\n",
    "df = df.sort_values(['ds_city', 'dt_date'])\n",
    "\n",
    "# Criar médias móveis para diferentes períodos\n",
    "df['qt_pm25_ma3'] = df.groupby('ds_city')['qt_pm25'].transform(lambda x: x.rolling(window=3, min_periods=1).mean())\n",
    "df['qt_pm25_ma7'] = df.groupby('ds_city')['qt_pm25'].transform(lambda x: x.rolling(window=7, min_periods=1).mean())\n",
    "df['qt_pm25_ma14'] = df.groupby('ds_city')['qt_pm25'].transform(lambda x: x.rolling(window=14, min_periods=1).mean())\n",
    "df['qt_pm25_ema'] = df.groupby('ds_city')['qt_pm25'].transform(lambda x: x.ewm(span=7, adjust=False).mean())\n",
    "df['qt_pm25_std7'] = df.groupby('ds_city')['qt_pm25'].transform(lambda x: x.rolling(window=7, min_periods=1).std())\n",
    "df['qt_pm25_trend'] = df['qt_pm25_ma7'] - df['qt_pm25_ma3']\n",
    "\n",
    "# Features de sazonalidade\n",
    "df['dia_semana'] = pd.to_datetime(df['dt_date']).dt.dayofweek\n",
    "df['mes_ano'] = pd.to_datetime(df['dt_date']).dt.month\n",
    "df['estacao'] = pd.to_datetime(df['dt_date']).dt.month % 12 // 3 + 1\n",
    "\n",
    "# Features de interação\n",
    "df['temp_umidade'] = df['qt_avg_temp_c'] * df['qt_avg_humidity']\n",
    "df['pressao_umidade'] = df['qt_pressure_mb'] * df['qt_avg_humidity']\n",
    "df['vento_umidade'] = df['qt_max_wind_kph'] * df['qt_avg_humidity']\n",
    "\n",
    "# Remover linhas com valores NaN\n",
    "df = df.dropna()"
   ]
  },
  {
   "cell_type": "markdown",
   "metadata": {},
   "source": [
    "---\n",
    "## Divisão dos Dados em Treino e Teste"
   ]
  },
  {
   "cell_type": "code",
   "execution_count": 66,
   "metadata": {},
   "outputs": [],
   "source": [
    "# Definir features para o modelo\n",
    "features = [\n",
    "    'qt_avg_humidity', 'qt_avg_temp_c', 'qt_avg_vis_km', \n",
    "    'qt_max_wind_kph', 'qt_total_precip_mm', 'qt_pressure_mb',\n",
    "    'qt_pm25_ma3', 'qt_pm25_ma7', 'qt_pm25_ma14',\n",
    "    'qt_pm25_ema', 'qt_pm25_std7', 'qt_pm25_trend',\n",
    "    'dia_semana', 'mes_ano', 'estacao',\n",
    "    'temp_umidade', 'pressao_umidade', 'vento_umidade'\n",
    "] + [col for col in df.columns if col.startswith('ds_city_')]\n",
    "\n",
    "# divisão dos dados\n",
    "X = df[features]\n",
    "y = df['qt_pm25']"
   ]
  },
  {
   "cell_type": "code",
   "execution_count": 67,
   "metadata": {},
   "outputs": [],
   "source": [
    "from sklearn.model_selection import train_test_split\n",
    "\n",
    "X_train, X_test, y_train, y_test = train_test_split(X, y, test_size = 0.2, random_state = 42)"
   ]
  },
  {
   "cell_type": "markdown",
   "metadata": {},
   "source": [
    "### Padronização"
   ]
  },
  {
   "cell_type": "code",
   "execution_count": 68,
   "metadata": {},
   "outputs": [],
   "source": [
    "from sklearn.preprocessing import StandardScaler\n",
    "\n",
    "# Inicializar o StandardScaler\n",
    "scaler = StandardScaler()\n",
    "\n",
    "# Ajustar o scaler apenas na base de treino\n",
    "scaler.fit(X_train)\n",
    "\n",
    "# Aplicar a transformação nas bases de treino e teste\n",
    "X_train_scaled = scaler.transform(X_train)\n",
    "X_test_scaled = scaler.transform(X_test)"
   ]
  },
  {
   "cell_type": "markdown",
   "metadata": {},
   "source": [
    "---\n",
    "## Definição de Métricas de Avaliação"
   ]
  },
  {
   "cell_type": "code",
   "execution_count": 69,
   "metadata": {},
   "outputs": [],
   "source": [
    "from sklearn.metrics import mean_absolute_error\n",
    "from sklearn.metrics import mean_squared_error\n",
    "from sklearn.metrics import mean_absolute_percentage_error"
   ]
  },
  {
   "cell_type": "code",
   "execution_count": 70,
   "metadata": {},
   "outputs": [],
   "source": [
    "# função para testar modelos de regressão e retornar valores das métricas\n",
    "def reg_evaluation(model, x_train, y_train, x_test, y_test):\n",
    "    model.fit(x_train, y_train)\n",
    "    y_pred = model.predict(x_test)\n",
    "    mse = mean_squared_error(y_test, y_pred)\n",
    "    rmse = np.sqrt(mse)\n",
    "    mape = mean_absolute_percentage_error(y_test, y_pred)\n",
    "\n",
    "    print(f'MSE: {mse}\\nRMSE: {rmse}\\nMAPE: {mape}')\n",
    "    return"
   ]
  },
  {
   "cell_type": "markdown",
   "metadata": {},
   "source": [
    "---\n",
    "## Treinamento dos Modelos"
   ]
  },
  {
   "cell_type": "markdown",
   "metadata": {},
   "source": [
    "### Regressão Linear"
   ]
  },
  {
   "cell_type": "code",
   "execution_count": 71,
   "metadata": {},
   "outputs": [
    {
     "name": "stdout",
     "output_type": "stream",
     "text": [
      "MSE: 84.02171060995516\n",
      "RMSE: 9.166335724266004\n",
      "MAPE: 0.166554979136639\n"
     ]
    }
   ],
   "source": [
    "from sklearn.linear_model import LinearRegression\n",
    "\n",
    "# criando e treinando o modelo\n",
    "reg_model = LinearRegression()\n",
    "reg_evaluation(reg_model, X_train_scaled, y_train, X_test_scaled, y_test)"
   ]
  },
  {
   "cell_type": "markdown",
   "metadata": {},
   "source": [
    "### KNN Regressor"
   ]
  },
  {
   "cell_type": "code",
   "execution_count": 72,
   "metadata": {},
   "outputs": [
    {
     "name": "stdout",
     "output_type": "stream",
     "text": [
      "MSE: 132.24388306451613\n",
      "RMSE: 11.499734043207962\n",
      "MAPE: 0.1872463754387595\n"
     ]
    }
   ],
   "source": [
    "from sklearn.neighbors import KNeighborsRegressor\n",
    "\n",
    "# criando e treinando o modelo\n",
    "knn_reg_model = KNeighborsRegressor()\n",
    "reg_evaluation(knn_reg_model, X_train_scaled, y_train, X_test_scaled, y_test)\n"
   ]
  },
  {
   "cell_type": "markdown",
   "metadata": {},
   "source": [
    "### SVR"
   ]
  },
  {
   "cell_type": "code",
   "execution_count": 73,
   "metadata": {},
   "outputs": [
    {
     "name": "stdout",
     "output_type": "stream",
     "text": [
      "MSE: 328.9881542593699\n",
      "RMSE: 18.13803060586705\n",
      "MAPE: 0.1666739667994405\n"
     ]
    }
   ],
   "source": [
    "from sklearn.svm import SVR\n",
    "\n",
    "# criando e treinando o modelo\n",
    "svr_model = SVR()\n",
    "reg_evaluation(svr_model, X_train_scaled, y_train, X_test_scaled, y_test)"
   ]
  },
  {
   "cell_type": "markdown",
   "metadata": {},
   "source": [
    "### Árvore de Regressão"
   ]
  },
  {
   "cell_type": "code",
   "execution_count": 74,
   "metadata": {},
   "outputs": [
    {
     "name": "stdout",
     "output_type": "stream",
     "text": [
      "MSE: 281.36351814516127\n",
      "RMSE: 16.773893946998747\n",
      "MAPE: 0.21872983084150915\n"
     ]
    }
   ],
   "source": [
    "from sklearn.tree import DecisionTreeRegressor\n",
    "\n",
    "# criando e treinando o modelo\n",
    "tree_reg_model = DecisionTreeRegressor()\n",
    "reg_evaluation(tree_reg_model, X_train_scaled, y_train, X_test_scaled, y_test)"
   ]
  },
  {
   "cell_type": "markdown",
   "metadata": {},
   "source": [
    "### XGBoost"
   ]
  },
  {
   "cell_type": "code",
   "execution_count": 75,
   "metadata": {},
   "outputs": [
    {
     "name": "stdout",
     "output_type": "stream",
     "text": [
      "MSE: 158.71834609557487\n",
      "RMSE: 12.59834695885039\n",
      "MAPE: 0.1678728158393274\n"
     ]
    }
   ],
   "source": [
    "from xgboost import XGBRegressor\n",
    "\n",
    "# criando e treinando o modelo\n",
    "xgb_model = XGBRegressor()\n",
    "reg_evaluation(xgb_model, X_train_scaled, y_train, X_test_scaled, y_test)"
   ]
  },
  {
   "cell_type": "markdown",
   "metadata": {},
   "source": [
    "### Random Forest Regressor"
   ]
  },
  {
   "cell_type": "code",
   "execution_count": 76,
   "metadata": {},
   "outputs": [
    {
     "name": "stdout",
     "output_type": "stream",
     "text": [
      "MSE: 150.50138402318547\n",
      "RMSE: 12.26790055482948\n",
      "MAPE: 0.16785266154251288\n"
     ]
    }
   ],
   "source": [
    "from sklearn.ensemble import RandomForestRegressor\n",
    "rf_model = RandomForestRegressor()\n",
    "rf_model.fit(X_train, y_train)\n",
    "reg_evaluation(rf_model, X_train_scaled, y_train, X_test_scaled, y_test)"
   ]
  },
  {
   "cell_type": "markdown",
   "metadata": {},
   "source": [
    "---\n",
    "## Otimização do Modelo"
   ]
  },
  {
   "cell_type": "markdown",
   "metadata": {},
   "source": [
    "### Grid Search com Validação Cruzada"
   ]
  },
  {
   "cell_type": "code",
   "execution_count": 77,
   "metadata": {},
   "outputs": [
    {
     "name": "stdout",
     "output_type": "stream",
     "text": [
      "Fitting 5 folds for each of 216 candidates, totalling 1080 fits\n",
      "Melhores parâmetros encontrados:  {'max_depth': 50, 'max_features': 'sqrt', 'min_samples_leaf': 1, 'min_samples_split': 2, 'n_estimators': 200}\n"
     ]
    }
   ],
   "source": [
    "from sklearn.model_selection import GridSearchCV\n",
    "\n",
    "x_train, x_test, y_train, y_test = train_test_split(X, y, test_size=0.2, random_state=42)\n",
    "\n",
    "# Definindo os parâmetros a serem testados\n",
    "param_grid = {\n",
    "    'n_estimators': [100, 200, 500],\n",
    "    'max_depth': [10, 20, 50, None],\n",
    "    'min_samples_split': [2, 5, 10],\n",
    "    'min_samples_leaf': [1, 2, 4],\n",
    "    'max_features': ['sqrt', 'log2']\n",
    "}\n",
    "\n",
    "# Criando o modelo\n",
    "rf = RandomForestRegressor(random_state=42)\n",
    "\n",
    "# Ajuste fino com validação cruzada\n",
    "grid_search = GridSearchCV(estimator=rf, param_grid=param_grid, cv=5, n_jobs=-1, verbose=2)\n",
    "\n",
    "# Treinando o modelo com otimização\n",
    "grid_search.fit(x_train, y_train)\n",
    "\n",
    "# Exibindo os melhores parâmetros\n",
    "print(\"Melhores parâmetros encontrados: \", grid_search.best_params_)"
   ]
  },
  {
   "cell_type": "code",
   "execution_count": 78,
   "metadata": {},
   "outputs": [
    {
     "name": "stdout",
     "output_type": "stream",
     "text": [
      "MSE: 139.72712599672366\n",
      "RMSE: 11.82062291068976\n",
      "MAPE: 0.1625113485091147\n"
     ]
    }
   ],
   "source": [
    "# Avaliando o desempenho no conjunto de teste\n",
    "best_rf = grid_search.best_estimator_\n",
    "y_pred = best_rf.predict(X_test)\n",
    "\n",
    "# calculando as métricas\n",
    "mse = mean_squared_error(y_test, y_pred)\n",
    "rmse = np.sqrt(mse)\n",
    "mape = mean_absolute_percentage_error(y_test, y_pred)\n",
    "\n",
    "print(f'MSE: {mse}\\nRMSE: {rmse}\\nMAPE: {mape}')"
   ]
  },
  {
   "cell_type": "markdown",
   "metadata": {},
   "source": [
    "____\n",
    "\n",
    "### Salva o modelo que será utilizado para a previsão."
   ]
  },
  {
   "cell_type": "code",
   "execution_count": 79,
   "metadata": {},
   "outputs": [
    {
     "name": "stdout",
     "output_type": "stream",
     "text": [
      "Modelo salvo com sucesso!\n"
     ]
    }
   ],
   "source": [
    "import pickle\n",
    "\n",
    "# salvar o modelo treinado\n",
    "with open(\"best_rf_model.pkl\", \"wb\") as file:\n",
    "    pickle.dump(best_rf, file)\n",
    "\n",
    "print(\"Modelo salvo com sucesso!\")"
   ]
  }
 ],
 "metadata": {
  "kernelspec": {
   "display_name": "Python 3",
   "language": "python",
   "name": "python3"
  },
  "language_info": {
   "codemirror_mode": {
    "name": "ipython",
    "version": 3
   },
   "file_extension": ".py",
   "mimetype": "text/x-python",
   "name": "python",
   "nbconvert_exporter": "python",
   "pygments_lexer": "ipython3",
   "version": "3.11.11"
  }
 },
 "nbformat": 4,
 "nbformat_minor": 2
}
